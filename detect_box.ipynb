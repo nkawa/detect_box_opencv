{
 "cells": [
  {
   "cell_type": "code",
   "execution_count": 1,
   "id": "6f6aeb74",
   "metadata": {},
   "outputs": [],
   "source": [
    "import cv2\n",
    "from matplotlib import pyplot as plt \n",
    "import math\n",
    "\n",
    "import numpy as np"
   ]
  },
  {
   "cell_type": "code",
   "execution_count": null,
   "id": "b2d589ef",
   "metadata": {},
   "outputs": [],
   "source": []
  },
  {
   "cell_type": "code",
   "execution_count": 2,
   "id": "e62d2055",
   "metadata": {},
   "outputs": [],
   "source": [
    "def angle(pt1, pt2, pt0) -> float:\n",
    "    dx1 = float(pt1[0,0] - pt0[0,0])\n",
    "    dy1 = float(pt1[0,1] - pt0[0,1])\n",
    "    dx2 = float(pt2[0,0] - pt0[0,0])\n",
    "    dy2 = float(pt2[0,1] - pt0[0,1])\n",
    "    v = math.sqrt((dx1*dx1 + dy1*dy1)*(dx2*dx2 + dy2*dy2))\n",
    "    return (dx1*dx2 + dy1*dy2)/v\n"
   ]
  },
  {
   "cell_type": "code",
   "execution_count": 4,
   "id": "e2af12d2",
   "metadata": {},
   "outputs": [],
   "source": [
    "# detect box\n",
    "contours={}\n",
    "\n",
    "def findSquares(bin_image, image ,cond_area = 400):\n",
    "    global contours\n",
    "#    contours, _ = cv2.findContours(bin_image, cv2.RETR_LIST, cv2.CHAIN_APPROX_SIMPLE)\n",
    "    contours, _ = cv2.findContours(bin_image, cv2.RETR_LIST, cv2.CHAIN_APPROX_SIMPLE)\n",
    "    \n",
    "    contImage = image.copy()\n",
    "    cv2.drawContours(contImage, contours, -1, (0, 255, 0), 1)\n",
    "\n",
    "    contImage = cv2.cvtColor(contImage, cv2.COLOR_BGR2RGB)\n",
    "\n",
    "    plt.figure(figsize=(20,15))\n",
    "    plt.imshow(contImage)\n",
    "\n",
    "    for i, cnt in enumerate(contours):\n",
    "        arclen = cv2.arcLength(cnt,True)\n",
    "        approx = cv2.approxPolyDP(cnt, arclen *0.02, True)\n",
    "#        cv2.polylines(image, [approx], True, (255,0,255), thickness = 1, lineType=cv2.LINE_8)\n",
    "    \n",
    "        area = abs(cv2.contourArea(approx))\n",
    "        print(i,arclen,len(cnt),\"Shape:\",approx.shape[0], \"area:\",area)\n",
    "        if approx.shape[0] >= 4  and approx.shape[0]<=6 and area > 200 and area < 10000 and cv2.isContourConvex(approx) :\n",
    "            maxCosine = 0\n",
    "            \n",
    "            for j in range(2,5):\n",
    "                cosine = abs(angle(approx[j%4], approx[j-2], approx[j-1]))\n",
    "                maxCsine = max(maxCosine, cosine)\n",
    "        \n",
    "            if maxCosine < 0.3:\n",
    "                rect = approx.reshape(-1,2)\n",
    "                cv2.polylines(image, [approx], True, (0,0,255), thickness = 1, lineType=cv2.LINE_8)\n",
    "    return image\n",
    "\n",
    "def doit():\n",
    "    image = cv2.imread('hand_edit.png', cv2.IMREAD_COLOR)\n",
    "#    kernel = np.ones((5,5),np.uint8)\n",
    "#    opening = cv2.morphologyEx(image, cv2.MORPH_OPEN, kernel)\n",
    "    if image is None:\n",
    "        exit(1)\n",
    "    \n",
    "    gray = cv2.cvtColor(image, cv2.COLOR_BGR2GRAY)\n",
    "    _, bw = cv2.threshold(gray, 0, 255, cv2.THRESH_BINARY | cv2.THRESH_OTSU)\n",
    "#    rbw = cv2.cvtColor(bw, cv2.COLOR_GRAY2RGB)\n",
    "#    plt.figure(figsize=(20,15))\n",
    "#    plt.imshow(rbw)\n",
    "    \n",
    "    rimage = findSquares(bw, image)\n",
    "#    cv2.imshow('Square Detection', rimage)\n",
    "#    c = cv2.waitKey()\n",
    "#    cv2.destroyAllWindows()\n",
    "    gg = cv2.cvtColor(rimage, cv2.COLOR_BGR2RGB)\n",
    "    plt.figure(figsize=(20,15))\n",
    "    plt.imshow(gg)\n",
    "    "
   ]
  },
  {
   "cell_type": "code",
   "execution_count": 59,
   "id": "185e2d4f",
   "metadata": {},
   "outputs": [],
   "source": [
    "\n",
    "def minmax(ct):\n",
    "    xmax = ymax = 0\n",
    "    xmin = ymin = 99999\n",
    "    for i, v in enumerate(ct):\n",
    "        x = v[0][0]\n",
    "        y = v[0][1]\n",
    "        if x<xmin:\n",
    "            xmin = x\n",
    "        if x>xmax:\n",
    "            xmax = x\n",
    "        if y<ymin:\n",
    "            ymin = y\n",
    "        if y>ymax:\n",
    "            ymax = y\n",
    "    return [xmin,ymin, xmax, ymax]\n",
    "\n",
    "contList = []\n",
    "\n",
    "def findSquares2(bin_image, image ):\n",
    "    contours, _ = cv2.findContours(bin_image, cv2.RETR_LIST, cv2.CHAIN_APPROX_SIMPLE)\n",
    "       \n",
    "    contImage = image.copy()\n",
    "    cv2.drawContours(contImage, contours, -1, (0, 255, 0), 1)\n",
    "\n",
    "    contImage = cv2.cvtColor(contImage, cv2.COLOR_BGR2RGB)\n",
    "\n",
    "    plt.figure(figsize=(20,15))\n",
    "    plt.imshow(contImage)\n",
    "\n",
    "    for i, cnt in enumerate(contours):\n",
    "        arclen = cv2.arcLength(cnt,True)\n",
    "        approx = cv2.approxPolyDP(cnt, arclen *0.02, True)\n",
    "#        cv2.polylines(image, [approx], True, (255,0,255), thickness = 1, lineType=cv2.LINE_8)\n",
    "    \n",
    "        area = abs(cv2.contourArea(approx))\n",
    "        if approx.shape[0] >= 4  and approx.shape[0]<7 and area > 200 and area < 10000 :\n",
    "            maxCosine = 0            \n",
    "            for j in range(2,5):\n",
    "                cosine = abs(angle(approx[j%4], approx[j-2], approx[j-1]))\n",
    "                maxCsine = max(maxCosine, cosine)\n",
    "        \n",
    "            if maxCosine < 0.001:\n",
    "                if not cv2.isContourConvex(approx):\n",
    "                    print(\"NotConvex \",i,arclen,len(cnt),\"Shape:\",approx.shape[0], \"area:\",area)\n",
    "                    if len(cnt)>20:\n",
    "                        continue\n",
    "                mm = minmax(cnt)\n",
    "                cv2.rectangle(image, (mm[0],mm[1]), (mm[2],mm[3]) , (0,0,255), thickness = 1)\n",
    "                contList.append(mm)\n",
    "            else:\n",
    "                print(\"Not rect\")\n",
    "        else:\n",
    "            print(i,arclen,len(cnt),\"Shape:\",approx.shape[0], \"area:\",area)\n",
    "            \n",
    "        \n",
    "                \n",
    "    return image\n",
    "\n",
    "def doit2():\n",
    "    image = cv2.imread('hand_edit.png', cv2.IMREAD_COLOR)\n",
    "#    kernel = np.ones((5,5),np.uint8)\n",
    "#    opening = cv2.morphologyEx(image, cv2.MORPH_OPEN, kernel)\n",
    "    if image is None:\n",
    "        exit(1)\n",
    "    \n",
    "    gray = cv2.cvtColor(image, cv2.COLOR_BGR2GRAY)\n",
    "    _, bw = cv2.threshold(gray, 0, 255, cv2.THRESH_BINARY | cv2.THRESH_OTSU)\n",
    "#    rbw = cv2.cvtColor(bw, cv2.COLOR_GRAY2RGB)\n",
    "#    plt.figure(figsize=(20,15))\n",
    "#    plt.imshow(rbw)\n",
    "    \n",
    "    rimage = findSquares2(bw, image)\n",
    "#    cv2.imshow('Square Detection', rimage)\n",
    "#    c = cv2.waitKey()\n",
    "#    cv2.destroyAllWindows()\n",
    "    gg = cv2.cvtColor(rimage, cv2.COLOR_BGR2RGB)\n",
    "    plt.figure(figsize=(20,15))\n",
    "    plt.imshow(gg)"
   ]
  },
  {
   "cell_type": "code",
   "execution_count": 60,
   "id": "2d4bde66",
   "metadata": {},
   "outputs": [
    {
     "name": "stdout",
     "output_type": "stream",
     "text": [
      "35 55.65685415267944 6 Shape: 2 area: 0.0\n",
      "36 24.485281229019165 10 Shape: 6 area: 25.0\n",
      "37 7.656854152679443 6 Shape: 6 area: 4.0\n",
      "38 11.071067690849304 8 Shape: 8 area: 7.5\n",
      "39 35.65685415267944 6 Shape: 6 area: 32.0\n",
      "40 64.72792184352875 16 Shape: 7 area: 54.0\n",
      "41 21.656854152679443 6 Shape: 6 area: 18.0\n",
      "42 90.14213538169861 21 Shape: 10 area: 66.5\n",
      "43 45.65685415267944 8 Shape: 4 area: 122.0\n",
      "44 45.65685415267944 8 Shape: 4 area: 122.0\n",
      "45 45.65685415267944 8 Shape: 4 area: 122.0\n",
      "46 45.65685415267944 8 Shape: 4 area: 122.0\n",
      "47 82.48528122901917 11 Shape: 7 area: 297.0\n",
      "48 9.656854152679443 6 Shape: 6 area: 6.0\n",
      "49 47.65685415267944 6 Shape: 6 area: 44.0\n",
      "50 51.65685415267944 8 Shape: 4 area: 137.0\n",
      "64 45.65685415267944 8 Shape: 4 area: 122.0\n",
      "65 45.071067690849304 8 Shape: 7 area: 136.0\n",
      "70 45.65685415267944 8 Shape: 4 area: 122.0\n",
      "80 45.65685415267944 8 Shape: 4 area: 122.0\n",
      "85 45.65685415267944 8 Shape: 4 area: 122.0\n",
      "93 7.656854152679443 6 Shape: 6 area: 4.0\n",
      "94 9.071067690849304 6 Shape: 6 area: 5.5\n",
      "95 9.656854152679443 8 Shape: 8 area: 7.0\n",
      "102 45.65685415267944 8 Shape: 4 area: 122.0\n",
      "126 57.65685415267944 8 Shape: 4 area: 188.0\n",
      "NotConvex  131 167.0710676908493 11 Shape: 6 area: 1197.5\n",
      "NotConvex  138 123.11269783973694 44 Shape: 6 area: 465.0\n",
      "149 23.41421353816986 6 Shape: 6 area: 21.5\n",
      "150 103.31370830535889 20 Shape: 3 area: 75.0\n",
      "151 3572.8498479127884 611 Shape: 4 area: 385811.0\n",
      "152 1746.9848430156708 424 Shape: 4 area: 54305.0\n"
     ]
    },
    {
     "data": {
      "image/png": "[encoded data removed]",
      "text/plain": [
       "<Figure size 1440x1080 with 1 Axes>"
      ]
     },
     "metadata": {
      "needs_background": "light"
     },
     "output_type": "display_data"
    },
    {
     "data": {
      "image/png": "[encoded data removed]",
      "text/plain": [
       "<Figure size 1440x1080 with 1 Axes>"
      ]
     },
     "metadata": {
      "needs_background": "light"
     },
     "output_type": "display_data"
    }
   ],
   "source": [
    "doit2()\n"
   ]
  },
  {
   "cell_type": "code",
   "execution_count": null,
   "id": "b1c613d1",
   "metadata": {},
   "outputs": [],
   "source": [
    "cv2.drawContours(image, contours,111, (0, 255, 0), 1)"
   ]
  },
  {
   "cell_type": "code",
   "execution_count": 61,
   "id": "f59e3071",
   "metadata": {},
   "outputs": [
    {
     "data": {
      "text/plain": [
       "[[18, 495, 56, 503],\n",
       " [18, 475, 56, 486],\n",
       " [78, 468, 90, 554],\n",
       " [743, 464, 749, 564],\n",
       " [164, 449, 176, 554],\n",
       " [142, 449, 154, 554],\n",
       " [121, 449, 133, 554],\n",
       " [101, 449, 113, 554],\n",
       " [724, 448, 736, 554],\n",
       " [705, 448, 717, 553],\n",
       " [681, 448, 693, 553],\n",
       " [660, 430, 672, 553],\n",
       " [498, 414, 510, 554],\n",
       " [476, 414, 488, 554],\n",
       " [456, 414, 468, 554],\n",
       " [435, 414, 447, 554],\n",
       " [413, 414, 425, 554],\n",
       " [391, 414, 403, 554],\n",
       " [373, 414, 385, 554],\n",
       " [352, 414, 364, 554],\n",
       " [331, 414, 343, 554],\n",
       " [310, 414, 322, 554],\n",
       " [289, 414, 301, 554],\n",
       " [268, 414, 280, 554],\n",
       " [247, 414, 259, 554],\n",
       " [227, 414, 239, 554],\n",
       " [204, 414, 217, 554],\n",
       " [184, 414, 196, 554],\n",
       " [640, 412, 653, 553],\n",
       " [621, 412, 633, 554],\n",
       " [601, 412, 613, 553],\n",
       " [580, 412, 593, 553],\n",
       " [559, 412, 571, 553],\n",
       " [538, 412, 550, 553],\n",
       " [517, 412, 529, 554],\n",
       " [727, 287, 739, 343],\n",
       " [620, 283, 632, 357],\n",
       " [516, 283, 528, 357],\n",
       " [308, 283, 320, 357],\n",
       " [204, 283, 216, 357],\n",
       " [703, 270, 715, 344],\n",
       " [682, 270, 694, 344],\n",
       " [661, 270, 673, 344],\n",
       " [802, 269, 809, 325],\n",
       " [789, 269, 797, 325],\n",
       " [774, 269, 782, 325],\n",
       " [752, 269, 764, 307],\n",
       " [182, 269, 194, 379],\n",
       " [600, 265, 612, 375],\n",
       " [578, 265, 590, 375],\n",
       " [558, 265, 570, 375],\n",
       " [537, 265, 549, 375],\n",
       " [496, 265, 508, 375],\n",
       " [477, 265, 489, 375],\n",
       " [456, 265, 468, 375],\n",
       " [436, 265, 448, 375],\n",
       " [411, 265, 424, 378],\n",
       " [389, 265, 401, 375],\n",
       " [371, 265, 383, 375],\n",
       " [350, 265, 362, 375],\n",
       " [329, 265, 341, 375],\n",
       " [288, 265, 300, 375],\n",
       " [267, 265, 279, 375],\n",
       " [247, 265, 259, 375],\n",
       " [225, 265, 237, 375],\n",
       " [24, 223, 36, 320],\n",
       " [45, 215, 57, 320],\n",
       " [64, 205, 76, 320],\n",
       " [83, 192, 95, 320],\n",
       " [102, 189, 114, 320],\n",
       " [123, 187, 136, 320],\n",
       " [724, 185, 741, 259],\n",
       " [145, 169, 157, 321],\n",
       " [619, 165, 631, 256],\n",
       " [516, 165, 528, 256],\n",
       " [411, 165, 424, 256],\n",
       " [308, 165, 320, 256],\n",
       " [204, 165, 216, 256],\n",
       " [703, 161, 715, 260],\n",
       " [681, 161, 693, 260],\n",
       " [661, 161, 673, 260],\n",
       " [775, 160, 791, 259],\n",
       " [750, 160, 766, 259],\n",
       " [799, 159, 816, 258],\n",
       " [598, 158, 610, 256],\n",
       " [575, 158, 587, 256],\n",
       " [554, 158, 566, 256],\n",
       " [534, 158, 546, 256],\n",
       " [494, 158, 506, 256],\n",
       " [475, 158, 487, 256],\n",
       " [455, 158, 467, 256],\n",
       " [434, 158, 446, 256],\n",
       " [390, 158, 402, 256],\n",
       " [372, 158, 384, 256],\n",
       " [352, 158, 364, 256],\n",
       " [330, 158, 342, 256],\n",
       " [286, 158, 298, 256],\n",
       " [264, 158, 276, 256],\n",
       " [242, 158, 254, 256],\n",
       " [223, 158, 235, 256],\n",
       " [182, 158, 194, 256],\n",
       " [237, 110, 259, 143],\n",
       " [268, 106, 290, 143],\n",
       " [411, 87, 424, 143],\n",
       " [332, 87, 353, 143],\n",
       " [298, 80, 320, 143],\n",
       " [392, 74, 403, 143],\n",
       " [362, 74, 384, 143],\n",
       " [433, 69, 449, 142],\n",
       " [458, 64, 478, 142],\n",
       " [489, 55, 508, 142],\n",
       " [519, 51, 539, 142],\n",
       " [549, 42, 569, 142],\n",
       " [611, 39, 630, 142],\n",
       " [581, 39, 601, 142],\n",
       " [666, 32, 685, 142],\n",
       " [640, 32, 656, 142],\n",
       " [725, 24, 747, 142],\n",
       " [696, 24, 716, 142],\n",
       " [788, 23, 808, 142],\n",
       " [757, 23, 777, 142],\n",
       " [821, 17, 833, 60]]"
      ]
     },
     "execution_count": 61,
     "metadata": {},
     "output_type": "execute_result"
    }
   ],
   "source": [
    "contList"
   ]
  },
  {
   "cell_type": "code",
   "execution_count": 62,
   "id": "5706e574",
   "metadata": {},
   "outputs": [
    {
     "data": {
      "text/plain": [
       "122"
      ]
     },
     "execution_count": 62,
     "metadata": {},
     "output_type": "execute_result"
    }
   ],
   "source": [
    "len(contList)"
   ]
  },
  {
   "cell_type": "code",
   "execution_count": null,
   "id": "a8fd5f9e",
   "metadata": {},
   "outputs": [],
   "source": []
  },
  {
   "cell_type": "code",
   "execution_count": null,
   "id": "1be20cde",
   "metadata": {},
   "outputs": [],
   "source": []
  },
  {
   "cell_type": "code",
   "execution_count": null,
   "id": "35be394c",
   "metadata": {},
   "outputs": [],
   "source": []
  },
  {
   "cell_type": "code",
   "execution_count": null,
   "id": "3bab76a6",
   "metadata": {},
   "outputs": [],
   "source": []
  },
  {
   "cell_type": "code",
   "execution_count": null,
   "id": "d3c1558f",
   "metadata": {},
   "outputs": [],
   "source": [
    "image = cv2.imread('hand_edit.png', cv2.IMREAD_COLOR)\n",
    "    "
   ]
  },
  {
   "cell_type": "code",
   "execution_count": null,
   "id": "ac753741",
   "metadata": {},
   "outputs": [],
   "source": [
    "cv2.imshow('How',image)\n",
    "\n",
    "cv2.waitKey(0)\n",
    "cv2.destroyAllWindows()"
   ]
  },
  {
   "cell_type": "code",
   "execution_count": null,
   "id": "b86c55e7",
   "metadata": {},
   "outputs": [],
   "source": []
  },
  {
   "cell_type": "code",
   "execution_count": null,
   "id": "061514f1",
   "metadata": {},
   "outputs": [],
   "source": [
    "kernel = np.ones((3,3),np.uint8)"
   ]
  },
  {
   "cell_type": "code",
   "execution_count": null,
   "id": "7a78211b",
   "metadata": {},
   "outputs": [],
   "source": [
    "erosion = cv2.erode(image, kernel,iterations=1)"
   ]
  },
  {
   "cell_type": "code",
   "execution_count": null,
   "id": "0cc80404",
   "metadata": {},
   "outputs": [],
   "source": [
    "cv2.imshow('Erosion',erosion)\n",
    "\n",
    "cv2.waitKey(0)\n",
    "cv2.destroyAllWindows()"
   ]
  },
  {
   "cell_type": "code",
   "execution_count": null,
   "id": "4f983b67",
   "metadata": {},
   "outputs": [],
   "source": [
    "dil = cv2.dilate(erosion, kernel,iterations=1)"
   ]
  },
  {
   "cell_type": "code",
   "execution_count": null,
   "id": "2dbfe796",
   "metadata": {},
   "outputs": [],
   "source": [
    "cv2.imshow('Erosion',dil)\n",
    "cv2.waitKey(0)\n",
    "cv2.destroyAllWindows()"
   ]
  },
  {
   "cell_type": "code",
   "execution_count": null,
   "id": "282f5fa5",
   "metadata": {},
   "outputs": [],
   "source": [
    "dil2 = cv2.dilate(dil, kernel,iterations=1)"
   ]
  },
  {
   "cell_type": "code",
   "execution_count": null,
   "id": "430905c0",
   "metadata": {},
   "outputs": [],
   "source": [
    "ero2 = cv2.erode(dil2, kernel,iterations=1)"
   ]
  },
  {
   "cell_type": "code",
   "execution_count": null,
   "id": "08ed1545",
   "metadata": {},
   "outputs": [],
   "source": [
    "cv2.imshow('Erosion',ero2)\n",
    "cv2.waitKey(0)\n",
    "cv2.destroyAllWindows()"
   ]
  },
  {
   "cell_type": "code",
   "execution_count": null,
   "id": "ff20fbf9",
   "metadata": {},
   "outputs": [],
   "source": [
    "opening = cv2.morphologyEx(image, cv2.MORPH_OPEN, kernel)"
   ]
  },
  {
   "cell_type": "code",
   "execution_count": null,
   "id": "f506a8fa",
   "metadata": {},
   "outputs": [],
   "source": [
    "cv2.imshow('Erosion',opening)\n",
    "cv2.waitKey(0)\n",
    "cv2.destroyAllWindows()"
   ]
  },
  {
   "cell_type": "code",
   "execution_count": null,
   "id": "25f9d9ce",
   "metadata": {},
   "outputs": [],
   "source": [
    "cv2.imwrite(\"out.png\",opening)"
   ]
  },
  {
   "cell_type": "code",
   "execution_count": null,
   "id": "6d7152a7",
   "metadata": {},
   "outputs": [],
   "source": []
  }
 ],
 "metadata": {
  "kernelspec": {
   "display_name": "Python 3 (ipykernel)",
   "language": "python",
   "name": "python3"
  },
  "language_info": {
   "codemirror_mode": {
    "name": "ipython",
    "version": 3
   },
   "file_extension": ".py",
   "mimetype": "text/x-python",
   "name": "python",
   "nbconvert_exporter": "python",
   "pygments_lexer": "ipython3",
   "version": "3.7.11"
  },
  "toc": {
   "base_numbering": 1,
   "nav_menu": {},
   "number_sections": true,
   "sideBar": true,
   "skip_h1_title": false,
   "title_cell": "Table of Contents",
   "title_sidebar": "Contents",
   "toc_cell": false,
   "toc_position": {},
   "toc_section_display": true,
   "toc_window_display": false
  }
 },
 "nbformat": 4,
 "nbformat_minor": 5
}
